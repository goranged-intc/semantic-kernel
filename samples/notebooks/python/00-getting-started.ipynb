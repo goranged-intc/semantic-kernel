{
 "cells": [
  {
   "cell_type": "markdown",
   "metadata": {},
   "source": [
    "# Setup\n",
    "\n",
    "**Step 1**: Import Semantic Kernel SDK from pypi.org"
   ]
  },
  {
   "cell_type": "code",
   "execution_count": 1,
   "metadata": {},
   "outputs": [
    {
     "name": "stdout",
     "output_type": "stream",
     "text": [
      "Collecting semantic-kernel==0.2.7.dev0"
     ]
    },
    {
     "name": "stderr",
     "output_type": "stream",
     "text": [
      "ERROR: Could not install packages due to an OSError: [WinError 5] Access is denied: 'C:\\\\Users\\\\gnaranjo\\\\AppData\\\\Local\\\\Programs\\\\Python\\\\Python310\\\\Lib\\\\site-packages\\\\~umpy\\\\.libs\\\\libopenblas.XWYDX2IKJW2NMTWSFYNGFUWKQU3LYTCZ.gfortran-win_amd64.dll'\n",
      "Consider using the `--user` option or check the permissions.\n",
      "\n",
      "WARNING: There was an error checking the latest version of pip.\n"
     ]
    },
    {
     "name": "stdout",
     "output_type": "stream",
     "text": [
      "\n",
      "  Downloading semantic_kernel-0.2.7.dev0-py3-none-any.whl (85 kB)\n",
      "     -------------------------------------- 86.0/86.0 kB 284.6 kB/s eta 0:00:00\n",
      "Requirement already satisfied: openai<0.28.0,>=0.27.0 in c:\\users\\gnaranjo\\appdata\\local\\programs\\python\\python310\\lib\\site-packages (from semantic-kernel==0.2.7.dev0) (0.27.4)\n",
      "Collecting numpy<2.0.0,>=1.24.2\n",
      "  Downloading numpy-1.24.3-cp310-cp310-win_amd64.whl (14.8 MB)\n",
      "     ---------------------------------------- 14.8/14.8 MB 3.5 MB/s eta 0:00:00\n",
      "Collecting aiofiles<24.0.0,>=23.1.0\n",
      "  Downloading aiofiles-23.1.0-py3-none-any.whl (14 kB)\n",
      "Requirement already satisfied: requests>=2.20 in c:\\users\\gnaranjo\\appdata\\local\\programs\\python\\python310\\lib\\site-packages (from openai<0.28.0,>=0.27.0->semantic-kernel==0.2.7.dev0) (2.26.0)\n",
      "Requirement already satisfied: tqdm in c:\\users\\gnaranjo\\appdata\\local\\programs\\python\\python310\\lib\\site-packages (from openai<0.28.0,>=0.27.0->semantic-kernel==0.2.7.dev0) (4.64.0)\n",
      "Requirement already satisfied: aiohttp in c:\\users\\gnaranjo\\appdata\\local\\programs\\python\\python310\\lib\\site-packages (from openai<0.28.0,>=0.27.0->semantic-kernel==0.2.7.dev0) (3.8.4)\n",
      "Requirement already satisfied: charset-normalizer~=2.0.0 in c:\\users\\gnaranjo\\appdata\\local\\programs\\python\\python310\\lib\\site-packages (from requests>=2.20->openai<0.28.0,>=0.27.0->semantic-kernel==0.2.7.dev0) (2.0.7)\n",
      "Requirement already satisfied: idna<4,>=2.5 in c:\\users\\gnaranjo\\appdata\\local\\programs\\python\\python310\\lib\\site-packages (from requests>=2.20->openai<0.28.0,>=0.27.0->semantic-kernel==0.2.7.dev0) (3.3)\n",
      "Requirement already satisfied: urllib3<1.27,>=1.21.1 in c:\\users\\gnaranjo\\appdata\\local\\programs\\python\\python310\\lib\\site-packages (from requests>=2.20->openai<0.28.0,>=0.27.0->semantic-kernel==0.2.7.dev0) (1.26.7)\n",
      "Requirement already satisfied: certifi>=2017.4.17 in c:\\users\\gnaranjo\\appdata\\local\\programs\\python\\python310\\lib\\site-packages (from requests>=2.20->openai<0.28.0,>=0.27.0->semantic-kernel==0.2.7.dev0) (2021.10.8)\n",
      "Requirement already satisfied: multidict<7.0,>=4.5 in c:\\users\\gnaranjo\\appdata\\local\\programs\\python\\python310\\lib\\site-packages (from aiohttp->openai<0.28.0,>=0.27.0->semantic-kernel==0.2.7.dev0) (6.0.4)\n",
      "Requirement already satisfied: attrs>=17.3.0 in c:\\users\\gnaranjo\\appdata\\local\\programs\\python\\python310\\lib\\site-packages (from aiohttp->openai<0.28.0,>=0.27.0->semantic-kernel==0.2.7.dev0) (21.2.0)\n",
      "Requirement already satisfied: async-timeout<5.0,>=4.0.0a3 in c:\\users\\gnaranjo\\appdata\\local\\programs\\python\\python310\\lib\\site-packages (from aiohttp->openai<0.28.0,>=0.27.0->semantic-kernel==0.2.7.dev0) (4.0.2)\n",
      "Requirement already satisfied: yarl<2.0,>=1.0 in c:\\users\\gnaranjo\\appdata\\local\\programs\\python\\python310\\lib\\site-packages (from aiohttp->openai<0.28.0,>=0.27.0->semantic-kernel==0.2.7.dev0) (1.8.2)\n",
      "Requirement already satisfied: aiosignal>=1.1.2 in c:\\users\\gnaranjo\\appdata\\local\\programs\\python\\python310\\lib\\site-packages (from aiohttp->openai<0.28.0,>=0.27.0->semantic-kernel==0.2.7.dev0) (1.3.1)\n",
      "Requirement already satisfied: frozenlist>=1.1.1 in c:\\users\\gnaranjo\\appdata\\local\\programs\\python\\python310\\lib\\site-packages (from aiohttp->openai<0.28.0,>=0.27.0->semantic-kernel==0.2.7.dev0) (1.3.3)\n",
      "Requirement already satisfied: colorama in c:\\users\\gnaranjo\\appdata\\local\\programs\\python\\python310\\lib\\site-packages (from tqdm->openai<0.28.0,>=0.27.0->semantic-kernel==0.2.7.dev0) (0.4.4)\n",
      "Installing collected packages: numpy, aiofiles, semantic-kernel\n",
      "  Attempting uninstall: numpy\n",
      "    Found existing installation: numpy 1.21.3\n",
      "    Uninstalling numpy-1.21.3:\n",
      "      Successfully uninstalled numpy-1.21.3\n"
     ]
    }
   ],
   "source": [
    "!python -m pip install semantic-kernel==0.2.7.dev0"
   ]
  },
  {
   "cell_type": "code",
   "execution_count": null,
   "metadata": {},
   "outputs": [],
   "source": [
    "import semantic_kernel as sk\n",
    "\n",
    "kernel = sk.Kernel()"
   ]
  },
  {
   "cell_type": "markdown",
   "metadata": {},
   "source": [
    "## Option 1: using OpenAI\n",
    "\n",
    "**Step 2**: Add your [Open AI Key](https://openai.com/api/) key to a `.env` file in the same folder (org Id only if you have multiple orgs):\n",
    "\n",
    "```\n",
    "OPENAI_API_KEY=\"sk-...\"\n",
    "OPENAI_ORG_ID=\"\"\n",
    "```\n",
    "\n",
    "and add OpenAI Text Completion to the kernel:"
   ]
  },
  {
   "cell_type": "code",
   "execution_count": null,
   "metadata": {},
   "outputs": [],
   "source": [
    "from semantic_kernel.connectors.ai.open_ai import OpenAITextCompletion\n",
    "\n",
    "api_key, org_id = sk.openai_settings_from_dot_env()\n",
    "\n",
    "kernel.add_text_completion_service(\"dv\", OpenAITextCompletion(\"text-davinci-003\", api_key, org_id))"
   ]
  },
  {
   "cell_type": "markdown",
   "metadata": {},
   "source": [
    "## Option 2: using Azure OpenAI\n",
    "\n",
    "**Step 2**: Add your [Azure Open AI Service key](https://learn.microsoft.com/azure/cognitive-services/openai/quickstart?pivots=programming-language-studio) settings to a `.env` file in the same folder:\n",
    "\n",
    "```\n",
    "AZURE_OPENAI_API_KEY=\"...\"\n",
    "AZURE_OPENAI_ENDPOINT=\"https://...\"\n",
    "AZURE_OPENAI_DEPLOYMENT_NAME=\"...\"\n",
    "```\n",
    "\n",
    "and add Azure OpenAI Text Completion to the kernel:"
   ]
  },
  {
   "cell_type": "code",
   "execution_count": null,
   "metadata": {},
   "outputs": [],
   "source": [
    "from semantic_kernel.connectors.ai.open_ai import AzureTextCompletion\n",
    "\n",
    "deployment, api_key, endpoint = sk.azure_openai_settings_from_dot_env()\n",
    "\n",
    "kernel.add_text_completion_service(\"dv\", AzureTextCompletion(deployment, endpoint, api_key))"
   ]
  },
  {
   "cell_type": "markdown",
   "metadata": {},
   "source": [
    "# Run a Semantic Function\n",
    "\n",
    "**Step 3**: Load a Skill and run a semantic function:"
   ]
  },
  {
   "cell_type": "code",
   "execution_count": null,
   "metadata": {},
   "outputs": [],
   "source": [
    "skill = kernel.import_semantic_skill_from_directory(\"../../skills\", \"FunSkill\")\n",
    "joke_function = skill[\"Joke\"]\n",
    "\n",
    "print(joke_function(\"time travel to dinosaur age\"))"
   ]
  }
 ],
 "metadata": {
  "kernelspec": {
   "display_name": "Python 3 (ipykernel)",
   "language": "python",
   "name": "python3"
  },
  "language_info": {
   "codemirror_mode": {
    "name": "ipython",
    "version": 3
   },
   "file_extension": ".py",
   "mimetype": "text/x-python",
   "name": "python",
   "nbconvert_exporter": "python",
   "pygments_lexer": "ipython3",
   "version": "3.10.0"
  }
 },
 "nbformat": 4,
 "nbformat_minor": 2
}
